{
 "cells": [
  {
   "cell_type": "markdown",
   "id": "2a9c45fd-d3ae-49a5-9928-be8a7561fdbf",
   "metadata": {},
   "source": [
    "# #*Task4*"
   ]
  },
  {
   "cell_type": "raw",
   "id": "204011ec-95fc-4bfd-a297-d9ff3af4df55",
   "metadata": {},
   "source": [
    "TASK 4: Sentiment Analysis\n",
    "● Analyze text data to classify it as positive, negative or neutra.\n",
    "● 2. Use NLP techniques and lexicons to detect specific emotions.\n",
    "● 3. Apply analysis on data from sources like Amazon reviews, social media, and news sites.\n",
    "● 4. Understand public opinion and trends through sentiment patterns.\n",
    "● 5. Use results to inform marketing, product development, or social insights"
   ]
  },
  {
   "cell_type": "code",
   "execution_count": 9,
   "id": "72ee8535-f54e-47ef-b7da-1c038e4fbc8c",
   "metadata": {},
   "outputs": [],
   "source": [
    "# import required libraries :\n",
    "\n",
    "import pandas as pd\n",
    "import matplotlib.pyplot as plt\n",
    "import seaborn as sns\n",
    "from textblob import TextBlob"
   ]
  },
  {
   "cell_type": "code",
   "execution_count": 15,
   "id": "65824482-53de-4595-a28b-2ee8eed1b256",
   "metadata": {},
   "outputs": [],
   "source": [
    "# Read the dataset (we use titanic-parquet.csv)\n",
    "\n",
    "df = pd.read_csv('amazon_reviews.csv')"
   ]
  },
  {
   "cell_type": "code",
   "execution_count": 17,
   "id": "8ea90864-5d36-4394-9062-e8665ded22eb",
   "metadata": {},
   "outputs": [
    {
     "data": {
      "text/html": [
       "<div>\n",
       "<style scoped>\n",
       "    .dataframe tbody tr th:only-of-type {\n",
       "        vertical-align: middle;\n",
       "    }\n",
       "\n",
       "    .dataframe tbody tr th {\n",
       "        vertical-align: top;\n",
       "    }\n",
       "\n",
       "    .dataframe thead th {\n",
       "        text-align: right;\n",
       "    }\n",
       "</style>\n",
       "<table border=\"1\" class=\"dataframe\">\n",
       "  <thead>\n",
       "    <tr style=\"text-align: right;\">\n",
       "      <th></th>\n",
       "      <th>Unnamed: 0</th>\n",
       "      <th>asin</th>\n",
       "      <th>helpful</th>\n",
       "      <th>overall</th>\n",
       "      <th>reviewText</th>\n",
       "      <th>reviewTime</th>\n",
       "      <th>reviewerID</th>\n",
       "      <th>reviewerName</th>\n",
       "      <th>summary</th>\n",
       "      <th>unixReviewTime</th>\n",
       "    </tr>\n",
       "  </thead>\n",
       "  <tbody>\n",
       "    <tr>\n",
       "      <th>0</th>\n",
       "      <td>0</td>\n",
       "      <td>0528881469</td>\n",
       "      <td>[0, 0]</td>\n",
       "      <td>5.0</td>\n",
       "      <td>We got this GPS for my husband who is an (OTR)...</td>\n",
       "      <td>06 2, 2013</td>\n",
       "      <td>AO94DHGC771SJ</td>\n",
       "      <td>amazdnu</td>\n",
       "      <td>Gotta have GPS!</td>\n",
       "      <td>1.370131e+09</td>\n",
       "    </tr>\n",
       "    <tr>\n",
       "      <th>1</th>\n",
       "      <td>1</td>\n",
       "      <td>0528881469</td>\n",
       "      <td>[12, 15]</td>\n",
       "      <td>1.0</td>\n",
       "      <td>I'm a professional OTR truck driver, and I bou...</td>\n",
       "      <td>11 25, 2010</td>\n",
       "      <td>AMO214LNFCEI4</td>\n",
       "      <td>Amazon Customer</td>\n",
       "      <td>Very Disappointed</td>\n",
       "      <td>1.290643e+09</td>\n",
       "    </tr>\n",
       "    <tr>\n",
       "      <th>2</th>\n",
       "      <td>2</td>\n",
       "      <td>0528881469</td>\n",
       "      <td>[43, 45]</td>\n",
       "      <td>3.0</td>\n",
       "      <td>Well, what can I say.  I've had this unit in m...</td>\n",
       "      <td>09 9, 2010</td>\n",
       "      <td>A3N7T0DY83Y4IG</td>\n",
       "      <td>C. A. Freeman</td>\n",
       "      <td>1st impression</td>\n",
       "      <td>1.283990e+09</td>\n",
       "    </tr>\n",
       "    <tr>\n",
       "      <th>3</th>\n",
       "      <td>3</td>\n",
       "      <td>0528881469</td>\n",
       "      <td>[9, 10]</td>\n",
       "      <td>2.0</td>\n",
       "      <td>Not going to write a long review, even thought...</td>\n",
       "      <td>11 24, 2010</td>\n",
       "      <td>A1H8PY3QHMQQA0</td>\n",
       "      <td>Dave M. Shaw \"mack dave\"</td>\n",
       "      <td>Great grafics, POOR GPS</td>\n",
       "      <td>1.290557e+09</td>\n",
       "    </tr>\n",
       "    <tr>\n",
       "      <th>4</th>\n",
       "      <td>4</td>\n",
       "      <td>0528881469</td>\n",
       "      <td>[0, 0]</td>\n",
       "      <td>1.0</td>\n",
       "      <td>I've had mine for a year and here's what we go...</td>\n",
       "      <td>09 29, 2011</td>\n",
       "      <td>A24EV6RXELQZ63</td>\n",
       "      <td>Wayne Smith</td>\n",
       "      <td>Major issues, only excuses for support</td>\n",
       "      <td>1.317254e+09</td>\n",
       "    </tr>\n",
       "    <tr>\n",
       "      <th>...</th>\n",
       "      <td>...</td>\n",
       "      <td>...</td>\n",
       "      <td>...</td>\n",
       "      <td>...</td>\n",
       "      <td>...</td>\n",
       "      <td>...</td>\n",
       "      <td>...</td>\n",
       "      <td>...</td>\n",
       "      <td>...</td>\n",
       "      <td>...</td>\n",
       "    </tr>\n",
       "    <tr>\n",
       "      <th>994</th>\n",
       "      <td>994</td>\n",
       "      <td>9983891212</td>\n",
       "      <td>[0, 0]</td>\n",
       "      <td>5.0</td>\n",
       "      <td>A cable runs lifetime. Excellent product that ...</td>\n",
       "      <td>02 21, 2014</td>\n",
       "      <td>A11QNB7FPVY3V</td>\n",
       "      <td>VESTALIA TORRES</td>\n",
       "      <td>Excellent</td>\n",
       "      <td>1.392941e+09</td>\n",
       "    </tr>\n",
       "    <tr>\n",
       "      <th>995</th>\n",
       "      <td>995</td>\n",
       "      <td>9983891212</td>\n",
       "      <td>[1, 1]</td>\n",
       "      <td>5.0</td>\n",
       "      <td>Quality of connection and video seems good wit...</td>\n",
       "      <td>04 29, 2011</td>\n",
       "      <td>AMGIMGPA34FIZ</td>\n",
       "      <td>Victor Kirkpatrick</td>\n",
       "      <td>This mini HDMI cable, well, it works</td>\n",
       "      <td>1.304035e+09</td>\n",
       "    </tr>\n",
       "    <tr>\n",
       "      <th>996</th>\n",
       "      <td>996</td>\n",
       "      <td>9983891212</td>\n",
       "      <td>[0, 0]</td>\n",
       "      <td>5.0</td>\n",
       "      <td>What is there to say?  I needed a cable to run...</td>\n",
       "      <td>06 26, 2013</td>\n",
       "      <td>A22XH75Z0895RC</td>\n",
       "      <td>weave</td>\n",
       "      <td>Good cable</td>\n",
       "      <td>1.372205e+09</td>\n",
       "    </tr>\n",
       "    <tr>\n",
       "      <th>997</th>\n",
       "      <td>997</td>\n",
       "      <td>9983891212</td>\n",
       "      <td>[0, 0]</td>\n",
       "      <td>5.0</td>\n",
       "      <td>I can find nothing wrong with this cable.  It ...</td>\n",
       "      <td>11 16, 2013</td>\n",
       "      <td>A2XVGWQZN26LX9</td>\n",
       "      <td>William J. Weisensee</td>\n",
       "      <td>Premium Canon Mini HDMI cable (10 ft)</td>\n",
       "      <td>1.384560e+09</td>\n",
       "    </tr>\n",
       "    <tr>\n",
       "      <th>998</th>\n",
       "      <td>998</td>\n",
       "      <td>9983891212</td>\n",
       "      <td>[12, 12]</td>\n",
       "      <td>5.0</td>\n",
       "      <td>Works perfectly at 1080p HD and in all other C...</td>\n",
       "      <td>04 7, 2010</td>\n",
       "      <td>A2UFAKH7Y8VH5N</td>\n",
       "      <td>WilliWu</td>\n",
       "      <td>Perfect for Canon EOS 7d</td>\n",
       "      <td>1.270598e+09</td>\n",
       "    </tr>\n",
       "  </tbody>\n",
       "</table>\n",
       "<p>999 rows × 10 columns</p>\n",
       "</div>"
      ],
      "text/plain": [
       "     Unnamed: 0        asin   helpful  overall  \\\n",
       "0             0  0528881469    [0, 0]      5.0   \n",
       "1             1  0528881469  [12, 15]      1.0   \n",
       "2             2  0528881469  [43, 45]      3.0   \n",
       "3             3  0528881469   [9, 10]      2.0   \n",
       "4             4  0528881469    [0, 0]      1.0   \n",
       "..          ...         ...       ...      ...   \n",
       "994         994  9983891212    [0, 0]      5.0   \n",
       "995         995  9983891212    [1, 1]      5.0   \n",
       "996         996  9983891212    [0, 0]      5.0   \n",
       "997         997  9983891212    [0, 0]      5.0   \n",
       "998         998  9983891212  [12, 12]      5.0   \n",
       "\n",
       "                                            reviewText   reviewTime  \\\n",
       "0    We got this GPS for my husband who is an (OTR)...   06 2, 2013   \n",
       "1    I'm a professional OTR truck driver, and I bou...  11 25, 2010   \n",
       "2    Well, what can I say.  I've had this unit in m...   09 9, 2010   \n",
       "3    Not going to write a long review, even thought...  11 24, 2010   \n",
       "4    I've had mine for a year and here's what we go...  09 29, 2011   \n",
       "..                                                 ...          ...   \n",
       "994  A cable runs lifetime. Excellent product that ...  02 21, 2014   \n",
       "995  Quality of connection and video seems good wit...  04 29, 2011   \n",
       "996  What is there to say?  I needed a cable to run...  06 26, 2013   \n",
       "997  I can find nothing wrong with this cable.  It ...  11 16, 2013   \n",
       "998  Works perfectly at 1080p HD and in all other C...   04 7, 2010   \n",
       "\n",
       "         reviewerID              reviewerName  \\\n",
       "0     AO94DHGC771SJ                   amazdnu   \n",
       "1     AMO214LNFCEI4           Amazon Customer   \n",
       "2    A3N7T0DY83Y4IG             C. A. Freeman   \n",
       "3    A1H8PY3QHMQQA0  Dave M. Shaw \"mack dave\"   \n",
       "4    A24EV6RXELQZ63               Wayne Smith   \n",
       "..              ...                       ...   \n",
       "994   A11QNB7FPVY3V           VESTALIA TORRES   \n",
       "995   AMGIMGPA34FIZ        Victor Kirkpatrick   \n",
       "996  A22XH75Z0895RC                     weave   \n",
       "997  A2XVGWQZN26LX9      William J. Weisensee   \n",
       "998  A2UFAKH7Y8VH5N                   WilliWu   \n",
       "\n",
       "                                    summary  unixReviewTime  \n",
       "0                           Gotta have GPS!    1.370131e+09  \n",
       "1                         Very Disappointed    1.290643e+09  \n",
       "2                            1st impression    1.283990e+09  \n",
       "3                   Great grafics, POOR GPS    1.290557e+09  \n",
       "4    Major issues, only excuses for support    1.317254e+09  \n",
       "..                                      ...             ...  \n",
       "994                               Excellent    1.392941e+09  \n",
       "995    This mini HDMI cable, well, it works    1.304035e+09  \n",
       "996                              Good cable    1.372205e+09  \n",
       "997   Premium Canon Mini HDMI cable (10 ft)    1.384560e+09  \n",
       "998                Perfect for Canon EOS 7d    1.270598e+09  \n",
       "\n",
       "[999 rows x 10 columns]"
      ]
     },
     "execution_count": 17,
     "metadata": {},
     "output_type": "execute_result"
    }
   ],
   "source": [
    "df"
   ]
  },
  {
   "cell_type": "code",
   "execution_count": 19,
   "id": "a7c9b20e-4c3f-49f8-a439-ffb2bcafdf5a",
   "metadata": {},
   "outputs": [
    {
     "name": "stdout",
     "output_type": "stream",
     "text": [
      "<class 'pandas.core.frame.DataFrame'>\n",
      "RangeIndex: 999 entries, 0 to 998\n",
      "Data columns (total 10 columns):\n",
      " #   Column          Non-Null Count  Dtype  \n",
      "---  ------          --------------  -----  \n",
      " 0   Unnamed: 0      999 non-null    int64  \n",
      " 1   asin            999 non-null    object \n",
      " 2   helpful         999 non-null    object \n",
      " 3   overall         999 non-null    float64\n",
      " 4   reviewText      997 non-null    object \n",
      " 5   reviewTime      999 non-null    object \n",
      " 6   reviewerID      999 non-null    object \n",
      " 7   reviewerName    994 non-null    object \n",
      " 8   summary         999 non-null    object \n",
      " 9   unixReviewTime  999 non-null    float64\n",
      "dtypes: float64(2), int64(1), object(7)\n",
      "memory usage: 78.2+ KB\n"
     ]
    }
   ],
   "source": [
    "#Data types and non-null counts\n",
    "\n",
    "df.info()"
   ]
  },
  {
   "cell_type": "code",
   "execution_count": 21,
   "id": "524f1393-164f-4d26-9f2a-cdb2d5b6f84b",
   "metadata": {},
   "outputs": [
    {
     "data": {
      "text/plain": [
       "Unnamed: 0        0\n",
       "asin              0\n",
       "helpful           0\n",
       "overall           0\n",
       "reviewText        2\n",
       "reviewTime        0\n",
       "reviewerID        0\n",
       "reviewerName      5\n",
       "summary           0\n",
       "unixReviewTime    0\n",
       "dtype: int64"
      ]
     },
     "execution_count": 21,
     "metadata": {},
     "output_type": "execute_result"
    }
   ],
   "source": [
    "# Missing values\n",
    "\n",
    "df.isnull().sum()"
   ]
  },
  {
   "cell_type": "code",
   "execution_count": 89,
   "id": "836e38a1-19c6-4d8d-89e9-b47a36d5c6b2",
   "metadata": {},
   "outputs": [
    {
     "data": {
      "text/plain": [
       "0"
      ]
     },
     "execution_count": 89,
     "metadata": {},
     "output_type": "execute_result"
    }
   ],
   "source": [
    "# Duplicate rows\n",
    "\n",
    "df.duplicated().sum()"
   ]
  },
  {
   "cell_type": "code",
   "execution_count": 27,
   "id": "a184cef2-0c71-4710-97f0-f6b20222794b",
   "metadata": {},
   "outputs": [],
   "source": [
    "# Remove missing or blank reviews\n",
    "df = df.dropna()"
   ]
  },
  {
   "cell_type": "code",
   "execution_count": 91,
   "id": "faee0a01-6fd9-44cb-8e14-e88d20c8e34b",
   "metadata": {},
   "outputs": [],
   "source": [
    "# rename the first column to better understanding\n",
    "df = df.rename(columns={'Unnamed: 0': 'index'})"
   ]
  },
  {
   "cell_type": "code",
   "execution_count": 48,
   "id": "fed40e30-b695-431e-a3a0-784f8c7b56dc",
   "metadata": {},
   "outputs": [
    {
     "data": {
      "text/plain": [
       "Index(['index', 'asin', 'helpful', 'overall', 'reviewText', 'reviewTime',\n",
       "       'reviewerID', 'reviewerName', 'summary', 'unixReviewTime', 'polarity',\n",
       "       'sentiment'],\n",
       "      dtype='object')"
      ]
     },
     "execution_count": 48,
     "metadata": {},
     "output_type": "execute_result"
    }
   ],
   "source": [
    "df.columns"
   ]
  },
  {
   "cell_type": "markdown",
   "id": "d9164ce6-3f8e-4dd5-be91-75cd1569aca6",
   "metadata": {},
   "source": [
    "## Perform Sentiment Analysis"
   ]
  },
  {
   "cell_type": "code",
   "execution_count": 55,
   "id": "d8f41861-63cd-4cfd-8477-4492f90fefa4",
   "metadata": {},
   "outputs": [],
   "source": [
    "def get_sentiment(text):\n",
    "    return TextBlob(text).sentiment.polarity\n",
    "df.loc[:, 'polarity'] = df['reviewText'].apply(get_sentiment)\n",
    "def classify_sentiment(score):\n",
    "    if score > 0:\n",
    "        return 'Positive'\n",
    "    elif score < 0:\n",
    "        return 'Negative'\n",
    "    else:\n",
    "        return 'Neutral'\n",
    "df.loc[:, 'sentiment'] = df['polarity'].apply(classify_sentiment)"
   ]
  },
  {
   "cell_type": "code",
   "execution_count": 71,
   "id": "e2b3c148-7d1f-434f-b76d-56891d1d69b4",
   "metadata": {},
   "outputs": [
    {
     "data": {
      "image/png": "[encoded data removed]",
      "text/plain": [
       "<Figure size 400x400 with 1 Axes>"
      ]
     },
     "metadata": {},
     "output_type": "display_data"
    }
   ],
   "source": [
    "#  Count of Positive, Negative, and Neutral Reviews\n",
    "\n",
    "plt.figure(figsize=(4,4))\n",
    "ax = sns.countplot(data=df, x='sentiment', palette='coolwarm', hue='sentiment')\n",
    "for p in ax.patches:\n",
    "    height = p.get_height()\n",
    "    ax.annotate(f'{height}', \n",
    "                (p.get_x() + p.get_width() / 2, height), \n",
    "                ha='center', va='bottom', fontsize=10)\n",
    "plt.title('Sentiment Distribution')\n",
    "plt.xlabel('Sentiment')\n",
    "plt.ylabel('Number of Reviews')\n",
    "plt.tight_layout()\n",
    "plt.show()"
   ]
  },
  {
   "cell_type": "code",
   "execution_count": 77,
   "id": "206d6473-8ccd-40a1-b9ce-4105f407cdf1",
   "metadata": {},
   "outputs": [
    {
     "data": {
      "text/plain": [
       "'We got this GPS for my husband who is an (OTR) over the road trucker.  Very Impressed with the shipping time, it arrived a few days earlier than expected...  within a week of use however it started freezing up... could of just been a glitch in that unit.  Worked great when it worked!  Will work great for the normal person as well but does have the \"trucker\" option. (the big truck routes - tells you when a scale is coming up ect...)  Love the bigger screen, the ease of use, the ease of putting addresses into memory.  Nothing really bad to say about the unit with the exception of it freezing which is probably one in a million and that\\'s just my luck.  I contacted the seller and within minutes of my email I received a email back with instructions for an exchange! VERY impressed all the way around!'"
      ]
     },
     "execution_count": 77,
     "metadata": {},
     "output_type": "execute_result"
    }
   ],
   "source": [
    "df[df['sentiment'] == 'Positive']['reviewText'].iloc[0]"
   ]
  },
  {
   "cell_type": "code",
   "execution_count": 81,
   "id": "53a50ad4-4b17-4512-a280-1ca4d33b0550",
   "metadata": {},
   "outputs": [
    {
     "data": {
      "text/plain": [
       "\"I've had mine for a year and here's what we got. It tries to route be down non truck routes while telling me the truck route is illegal for me. This is such a bad problem that even Interstate 25 in Denver Colorado is listed (according to this GPS) as a non- truck route and will route you through the city instead. There are several drivers within our company who own one and more than half (of about 50) have crashed to an un-recoverable state. Our company representative said that Rand McNally informed them that the GPS was not designed to say on for a long period of time. Really? it's a truck driver GPS. We have one driver with a $2400 dollar ticket due to this GPS routing him down the wrong road. The companies response was to update the unit. I've had mine for a year, I never noticed one update that corrected functionality, they only seem to keep messing the tools. I want a GPS that routes, if I wanted tools I'd buy software for my computer.My suggestion is to by a nice Garmen. My one rated for cars actually routes me better than this one rated for trucks.Wayne\""
      ]
     },
     "execution_count": 81,
     "metadata": {},
     "output_type": "execute_result"
    }
   ],
   "source": [
    "df[df['sentiment'] == 'Negative']['reviewText'].iloc[0]"
   ]
  },
  {
   "cell_type": "code",
   "execution_count": 83,
   "id": "0be9c707-403c-408a-b7d5-f2c8ca6df10a",
   "metadata": {},
   "outputs": [
    {
     "data": {
      "text/plain": [
       "\"We bought this for the tv in our gym as it gets moved around a bit.  It's definitely sturdy and works well.  Our tv in there is 24&#34;,\""
      ]
     },
     "execution_count": 83,
     "metadata": {},
     "output_type": "execute_result"
    }
   ],
   "source": [
    "df[df['sentiment'] == 'Neutral']['reviewText'].iloc[0]"
   ]
  },
  {
   "cell_type": "code",
   "execution_count": 87,
   "id": "894ebb8d-9951-41bb-9b13-5699f4562ea0",
   "metadata": {},
   "outputs": [
    {
     "name": "stdout",
     "output_type": "stream",
     "text": [
      "Sentiment analysis results saved successfully!\n"
     ]
    }
   ],
   "source": [
    "#Save the Result\n",
    "\n",
    "df.to_csv('amazon_reviews_sentiment.csv', index=False)\n",
    "print(\"Sentiment analysis results saved successfully!\")"
   ]
  },
  {
   "cell_type": "markdown",
   "id": "a1700dfb-3684-4357-bfd8-743742b3e94d",
   "metadata": {},
   "source": [
    "## Sentiment Analysis Task 4 Summary: amazon_reviews"
   ]
  },
  {
   "cell_type": "raw",
   "id": "7f54c3a4-8e38-456e-b231-cb834587c5ed",
   "metadata": {},
   "source": [
    "Objective:\n",
    "To analyze Amazon customer reviews and classify the sentiment of each review as Positive, Negative, or \n",
    "Neutral using Natural Language Processing (NLP) techniques.\n",
    "\n",
    "Tools & Libraries Used:\n",
    "pandas – For data loading, cleaning, and manipulation\n",
    "matplotlib.pyplot & seaborn – For data visualization\n",
    "TextBlob for performing sentiment analysis on text data\n",
    "\n",
    "Loaded and Inspected the Dataset:\n",
    "Read the amazon_reviews.csv file\n",
    "Checked data types and structure using df.info()\n",
    "Checked for missing values and duplicates\n",
    "Renamed 'Unnamed: 0' to 'index' for better understanding\n",
    "\n",
    "Cleaned the Data:\n",
    "Removed rows with missing values using dropna()\n",
    "Ensured only clean, valid reviews are used for analysis\n",
    "\n",
    "Performed Sentiment Analysis:\n",
    "Used TextBlob to calculate polarity score for each review:\n",
    "Polarity ranges from -1 (very negative) to +1 (very positive)\n",
    "Classified each review into:\n",
    "Positive (polarity > 0)\n",
    "Negative (polarity < 0)\n",
    "Neutral (polarity == 0)\n",
    "\n",
    "Visualized Sentiment Distribution:\n",
    "Created a bar chart showing the count of:\n",
    "Positive reviews\n",
    "Negative reviews\n",
    "Neutral reviews\n",
    "Added count labels on top of each bar for clarity\n",
    "\n",
    "Displayed Examples:\n",
    "Printed the first positive, negative, and neutral reviews from the dataset\n",
    "This helps understand how TextBlob interprets different review tones\n",
    "\n",
    "Saved the Final Result:\n",
    "Saved the final dataset with sentiment labels to a new CSV file:\n",
    "amazon_reviews_sentiment.csv\n",
    "\n",
    "Key Insight:\n",
    "This analysis shows the overall mood of customers about Amazon products. It helps businesses understand public opinion, \n",
    "improve products, and make better marketing and product decisions."
   ]
  }
 ],
 "metadata": {
  "kernelspec": {
   "display_name": "Python [conda env:base] *",
   "language": "python",
   "name": "conda-base-py"
  },
  "language_info": {
   "codemirror_mode": {
    "name": "ipython",
    "version": 3
   },
   "file_extension": ".py",
   "mimetype": "text/x-python",
   "name": "python",
   "nbconvert_exporter": "python",
   "pygments_lexer": "ipython3",
   "version": "3.12.7"
  }
 },
 "nbformat": 4,
 "nbformat_minor": 5
}
